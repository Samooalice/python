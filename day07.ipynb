{
 "cells": [
  {
   "cell_type": "markdown",
   "metadata": {},
   "source": [
    "# 재귀함수"
   ]
  },
  {
   "cell_type": "code",
   "execution_count": 4,
   "metadata": {},
   "outputs": [
    {
     "name": "stdout",
     "output_type": "stream",
     "text": [
      "3\n"
     ]
    }
   ],
   "source": [
    "print(1 + 2)"
   ]
  },
  {
   "cell_type": "code",
   "execution_count": 5,
   "metadata": {},
   "outputs": [
    {
     "name": "stdout",
     "output_type": "stream",
     "text": [
      "120\n"
     ]
    }
   ],
   "source": [
    "# 정수 하나를 입력받아 1부터 n까지 곱을 반환해주는 fact02를 작성하고 실행\n",
    "def fact02(n):\n",
    "    if n == 1:      \n",
    "        return 1   \n",
    "    return n * fact02(n - 1)    \n",
    " \n",
    "print(fact02(5))"
   ]
  },
  {
   "cell_type": "code",
   "execution_count": 7,
   "metadata": {},
   "outputs": [
    {
     "name": "stdout",
     "output_type": "stream",
     "text": [
      "30\n"
     ]
    }
   ],
   "source": [
    "g = 10\n",
    "h = 5\n",
    "\n",
    "def f(a):\n",
    "    h = a + 10\n",
    "    b = h + a + g\n",
    "    return b\n",
    "\n",
    "print(f(h))"
   ]
  },
  {
   "cell_type": "code",
   "execution_count": 8,
   "metadata": {},
   "outputs": [
    {
     "name": "stdout",
     "output_type": "stream",
     "text": [
      "x :  1\n"
     ]
    }
   ],
   "source": [
    "x = 200\n",
    "def f4():\n",
    "    x = 1\n",
    "    def g1():\n",
    "        print('x : ', x)\n",
    "    g1()\n",
    "\n",
    "f4()"
   ]
  },
  {
   "cell_type": "code",
   "execution_count": 10,
   "metadata": {},
   "outputs": [
    {
     "name": "stdout",
     "output_type": "stream",
     "text": [
      "t1.f(100):  220\n",
      "t1.g:  10\n"
     ]
    }
   ],
   "source": [
    "import day07.test01 as t1\n",
    "\n",
    "print('t1.f(100): ', t1.f(100))\n",
    "print('t1.g: ', g)"
   ]
  },
  {
   "cell_type": "code",
   "execution_count": 12,
   "metadata": {},
   "outputs": [
    {
     "name": "stdout",
     "output_type": "stream",
     "text": [
      "1\n"
     ]
    }
   ],
   "source": [
    "import string\n",
    "string.a = 1\n",
    "print(string.a)"
   ]
  },
  {
   "cell_type": "code",
   "execution_count": 13,
   "metadata": {},
   "outputs": [
    {
     "name": "stdout",
     "output_type": "stream",
     "text": [
      "62.83185307179586\n"
     ]
    }
   ],
   "source": [
    "import math\n",
    "\n",
    "print(2 * math.pi * 10)"
   ]
  },
  {
   "cell_type": "code",
   "execution_count": 20,
   "metadata": {},
   "outputs": [
    {
     "name": "stdout",
     "output_type": "stream",
     "text": [
      "12 18 의 최대공약수 : 6 / 최소공배수 : 36\n"
     ]
    }
   ],
   "source": [
    "# 문제 1 ]\n",
    "# 유클리드 호제법을 이용해서 두수를 입력받아서\n",
    "# 두수의 최대공약수, 최소공배수 를 반환해주는 함수를 작성하세요.\n",
    "bool = True\n",
    "def gcd(a, b):\n",
    "    global bool\n",
    "    if b>a:\n",
    "        a, b = b, a\n",
    "    tmp = a % b\n",
    "    if tmp == 0:\n",
    "        bool = True\n",
    "        return b\n",
    "    elif tmp == 1:\n",
    "        bool = False\n",
    "        return\n",
    "    return gcd(b, tmp)\n",
    "\n",
    "\n",
    "a = int(input('첫번째 숫자를 입력해 주세요'))\n",
    "b = int(input('두번째 숫자를 입력해 주세요'))\n",
    "gcd = gcd(a, b)\n",
    "if bool:\n",
    "    print(a, b, '의 최대공약수 :', int(gcd), '/ 최소공배수 :', int(a*b/gcd))\n",
    "else:\n",
    "    print(a, b, '(은)는 서로소 / 최소공배수 :', int(a*b))"
   ]
  },
  {
   "cell_type": "code",
   "execution_count": 224,
   "metadata": {},
   "outputs": [
    {
     "name": "stdout",
     "output_type": "stream",
     "text": [
      "[1, 10, 10, 16, 17, 27, 32, 41, 47, 48]\n"
     ]
    }
   ],
   "source": [
    "# 문제 2] 숫자를 입력해서 호출하면 해당 숫자의 인덱스를 반환해주는 함수를 이진탐색을 이용해서 작성해서 실행하세요.\n",
    "import random\n",
    "\n",
    "# 오름차순 정렬\n",
    "def sort_asc(arr):\n",
    "    for i in range(len(arr)):\n",
    "        for j in range(i+1, len(arr)):\n",
    "            if(arr[i] > arr[j]):\n",
    "                arr[i], arr[j] = arr[j], arr[i]\n",
    "\n",
    "# 중복제거 랜덤값 오름차순 리스트 생성\n",
    "def make_list(num_length):\n",
    "    arr = []\n",
    "    for i in range(num_length):\n",
    "        a = random.randint(1, 50)\n",
    "        for j in range(i):\n",
    "            if arr[j] == a:\n",
    "                a = random.randint(1, 50)\n",
    "                j = 0\n",
    "                continue\n",
    "        arr.append(a)\n",
    "    sort_asc(arr)\n",
    "    print(arr)\n",
    "make_list(10)\n",
    "# def find_num(num_length, fnum):\n",
    "#     make_list(num_length)\n",
    "\n",
    "# # num_length = int(input('배열을 만들 길이를 입력해 주세요'))\n",
    "# # fnum = int(input('찾을 숫자를 입력해 주세요'))\n",
    "# find_num(50, 2)\n",
    "\n",
    "\n",
    "\n",
    "\n"
   ]
  }
 ],
 "metadata": {
  "kernelspec": {
   "display_name": "py310",
   "language": "python",
   "name": "python3"
  },
  "language_info": {
   "codemirror_mode": {
    "name": "ipython",
    "version": 3
   },
   "file_extension": ".py",
   "mimetype": "text/x-python",
   "name": "python",
   "nbconvert_exporter": "python",
   "pygments_lexer": "ipython3",
   "version": "3.10.13"
  }
 },
 "nbformat": 4,
 "nbformat_minor": 2
}
